{
 "cells": [
  {
   "cell_type": "code",
   "execution_count": null,
   "id": "f0e27fed",
   "metadata": {},
   "outputs": [],
   "source": [
    "# Program to rename all image file\n",
    "\n",
    "\n",
    "# import os\n",
    "# os.chdir(r'C:\\Users\\Admin\\OneDrive\\Desktop\\AlzheimerNet Data\\NC\\Normal')\n",
    "# print(os.getcwd())\n",
    "\n",
    "# #Display number with leading zeros\n",
    "\n",
    "# for count, f in enumerate(os.listdir()):\n",
    "# \tf_name, f_ext = os.path.splitext(f)\n",
    "# \tf_name = \"tuberculosis\" + str(count).zfill(5)\n",
    "\n",
    "# \tnew_name = f'{f_name}{f_ext}'\n",
    "# \tos.rename(f, new_name)"
   ]
  },
  {
   "cell_type": "code",
   "execution_count": null,
   "id": "d34d9202",
   "metadata": {},
   "outputs": [],
   "source": [
    "#Program for resize the images\n",
    "\n",
    "# import PIL\n",
    "# import os\n",
    "# import os.path\n",
    "# from PIL import Image\n",
    "\n",
    "# f = r'C:\\Users\\Admin\\OneDrive\\Desktop\\AlzheimerNet Data\\NC\\Normal'\n",
    "\n",
    "# for file in os.listdir(f):\n",
    "#     f_img = f+\"/\"+file\n",
    "#     img = Image.open(f_img)\n",
    "#     img = img.resize((224,224))\n",
    "#     img.save(f_img)"
   ]
  },
  {
   "cell_type": "code",
   "execution_count": null,
   "id": "8a887ede",
   "metadata": {},
   "outputs": [],
   "source": [
    "\n",
    "\n",
    "#Clahe for image enhancement\n",
    "\n",
    "# import cv2\n",
    "# import numpy as np\n",
    "# import matplotlib.pyplot as plt\n",
    "# import glob\n",
    "# import time\n",
    "\n",
    "# input = r'C:\\Users\\Admin\\OneDrive\\Desktop\\Lung Data\\covid'\n",
    "# i = 0\n",
    "# #start = time.time()\n",
    "# for img in glob.glob(input + '/*.jpg'):\n",
    "#     #Test%04i.png\n",
    "#     image = cv2.imread(r'C:\\Users\\Admin\\OneDrive\\Desktop\\AlzheimerNet Data\\NC\\Normal%05i.jpg'%i,0)\n",
    "#     #Creating CLAHE \n",
    "#     clahe = cv2.createCLAHE(clipLimit=3, tileGridSize=(10,10))\n",
    "#     #Apply CLAHE to the original image\n",
    "#     image_clahe = clahe.apply(image)\n",
    "#     cv2.imwrite(r'C:\\Users\\Admin\\OneDrive\\Desktop\\AlzheimerNet Data\\NC\\Normal%05i.jpg'%i,image_clahe)\n",
    "#     i += 1\n",
    "\n"
   ]
  },
  {
   "cell_type": "code",
   "execution_count": null,
   "id": "f1365b80",
   "metadata": {},
   "outputs": [],
   "source": [
    "import numpy as np\n",
    "import pandas as pd\n",
    "import seaborn as sns\n",
    "import tensorflow as tf\n",
    "import matplotlib.pyplot as plt\n",
    "\n",
    "import os\n",
    "from distutils.dir_util import copy_tree, remove_tree\n",
    "\n",
    "from PIL import Image\n",
    "from random import randint\n",
    "\n",
    "from imblearn.over_sampling import SMOTE\n",
    "from sklearn.model_selection import train_test_split\n",
    "from sklearn.metrics import matthews_corrcoef as MCC\n",
    "from sklearn.metrics import balanced_accuracy_score as BAS\n",
    "from sklearn.metrics import classification_report, confusion_matrix\n",
    "\n",
    "import tensorflow_addons as tfa\n",
    "from keras.utils.vis_utils import plot_model\n",
    "from tensorflow.keras import Sequential, Input\n",
    "from tensorflow.keras.layers import Dense, Dropout\n",
    "from tensorflow.keras.layers import Conv2D, Flatten\n",
    "from tensorflow.keras.callbacks import ReduceLROnPlateau\n",
    "from tensorflow.keras.applications.inception_v3 import InceptionV3\n",
    "from tensorflow.keras.preprocessing.image import ImageDataGenerator as IDG\n",
    "from tensorflow.keras.layers import SeparableConv2D, BatchNormalization, GlobalAveragePooling2D\n",
    "\n",
    "import numpy as np\n",
    "import pandas as pd\n",
    "from pathlib import Path\n",
    "import os.path\n",
    "import matplotlib.pyplot as plt\n",
    "from IPython.display import Image, display\n",
    "import matplotlib.cm as cm\n",
    "from sklearn.model_selection import train_test_split\n",
    "import tensorflow as tf \n",
    "\n",
    "print(\"TensorFlow Version:\", tf.__version__)"
   ]
  },
  {
   "cell_type": "code",
   "execution_count": null,
   "id": "14c4b1b1",
   "metadata": {},
   "outputs": [],
   "source": [
    "image_dir = Path('C:/Users/Admin/OneDrive/Desktop/AlzheimerNet Data/')\n",
    "\n",
    "# Get filepaths and labels\n",
    "filepaths = list(image_dir.glob(r'**/*.jpg'))\n",
    "labels = list(map(lambda x: os.path.split(os.path.split(x)[0])[1], filepaths))\n",
    "\n",
    "filepaths = pd.Series(filepaths, name='Filepath').astype(str)\n",
    "labels = pd.Series(labels, name='Label')\n",
    "\n",
    "# Concatenate filepaths and labels\n",
    "image_df = pd.concat([filepaths, labels], axis=1)\n",
    "\n",
    "# Drop GT images\n",
    "image_df = image_df[image_df['Label'].apply(lambda x: x[-2:] != 'GT')]"
   ]
  },
  {
   "cell_type": "code",
   "execution_count": null,
   "id": "ea7a0c4d",
   "metadata": {
    "scrolled": true
   },
   "outputs": [],
   "source": [
    "# Shuffle the DataFrame and reset index\n",
    "image_df = image_df.sample(frac=1).reset_index(drop = True)\n",
    "\n",
    "# Show the result\n",
    "image_df.head(50)"
   ]
  },
  {
   "cell_type": "code",
   "execution_count": null,
   "id": "d44c0eae",
   "metadata": {},
   "outputs": [],
   "source": [
    "# Display 20 picture of the dataset with their labels\n",
    "fig, axes = plt.subplots(nrows=3, ncols=5, figsize=(15, 7),\n",
    "                        subplot_kw={'xticks': [], 'yticks': []})\n",
    "\n",
    "for i, ax in enumerate(axes.flat):\n",
    "    ax.imshow(plt.imread(image_df.Filepath[i]))\n",
    "    ax.set_title(image_df.Label[i])\n",
    "plt.tight_layout()\n",
    "plt.show()"
   ]
  },
  {
   "cell_type": "code",
   "execution_count": null,
   "id": "bfce02b6",
   "metadata": {},
   "outputs": [],
   "source": [
    "# Separate in train and test data\n",
    "train_df, test_df = train_test_split(image_df, train_size=0.6, shuffle=True, random_state=1)"
   ]
  },
  {
   "cell_type": "code",
   "execution_count": null,
   "id": "bbcaf98e",
   "metadata": {},
   "outputs": [],
   "source": [
    "train_generator = tf.keras.preprocessing.image.ImageDataGenerator(\n",
    "    preprocessing_function=tf.keras.applications.inception_v3.preprocess_input,\n",
    "    validation_split=0.2\n",
    ")\n",
    "\n",
    "test_generator = tf.keras.preprocessing.image.ImageDataGenerator(\n",
    "    preprocessing_function=tf.keras.applications.inception_v3.preprocess_input\n",
    ")"
   ]
  },
  {
   "cell_type": "code",
   "execution_count": null,
   "id": "f84fb25e",
   "metadata": {},
   "outputs": [],
   "source": [
    "train_images = train_generator.flow_from_dataframe(\n",
    "    dataframe=train_df,\n",
    "    x_col='Filepath',\n",
    "    y_col='Label',\n",
    "    target_size=(224, 224),\n",
    "    color_mode='rgb',\n",
    "    class_mode='categorical',\n",
    "    batch_size=32,\n",
    "    shuffle=True,\n",
    "    seed=42,\n",
    "    subset='training'\n",
    ")\n",
    "\n",
    "val_images = train_generator.flow_from_dataframe(\n",
    "    dataframe=train_df,\n",
    "    x_col='Filepath',\n",
    "    y_col='Label',\n",
    "    target_size=(255, 255),\n",
    "    color_mode='rgb',\n",
    "    class_mode='categorical',\n",
    "    batch_size=32,\n",
    "    shuffle=True,\n",
    "    seed=42,\n",
    "    subset='validation'\n",
    ")\n",
    "\n",
    "test_images = test_generator.flow_from_dataframe(\n",
    "    dataframe=test_df,\n",
    "    x_col='Filepath',\n",
    "    y_col='Label',\n",
    "    target_size=(255, 255),\n",
    "    color_mode='rgb',\n",
    "    class_mode='categorical',\n",
    "    batch_size=32,\n",
    "    shuffle=False\n",
    ")"
   ]
  },
  {
   "cell_type": "code",
   "execution_count": null,
   "id": "f8fab386",
   "metadata": {},
   "outputs": [],
   "source": [
    "# Load the pretained model\n",
    "pretrained_model = tf.keras.applications.InceptionV3(\n",
    "    input_shape=(255, 255, 3),\n",
    "    include_top=False,\n",
    "    weights='imagenet',\n",
    ")\n",
    "\n",
    "pretrained_model.trainable = False\n",
    "pretrained_model.summary()"
   ]
  },
  {
   "cell_type": "code",
   "execution_count": null,
   "id": "cb6780aa",
   "metadata": {},
   "outputs": [],
   "source": [
    "for layer in pretrained_model.layers:\n",
    "    layer.trainable=False"
   ]
  },
  {
   "cell_type": "code",
   "execution_count": null,
   "id": "08533b9b",
   "metadata": {},
   "outputs": [],
   "source": [
    "# Proposed AlzheimerNet Model\n",
    "custom_inception_model = Sequential([\n",
    "        pretrained_model,\n",
    "        Dropout(0.5),\n",
    "        GlobalAveragePooling2D(),\n",
    "        Flatten(),\n",
    "        BatchNormalization(),\n",
    "        Dense(512, activation='relu'),\n",
    "        BatchNormalization(),\n",
    "        Dropout(0.5),\n",
    "        Dense(256, activation='relu'),\n",
    "        BatchNormalization(),\n",
    "        Dropout(0.5),\n",
    "        Dense(128, activation='relu'),\n",
    "        BatchNormalization(),\n",
    "        Dropout(0.5),\n",
    "        Dense(64, activation='relu'),\n",
    "        Dropout(0.5),\n",
    "        BatchNormalization(),\n",
    "        Flatten(),\n",
    "        Dense(6, activation='softmax')        \n",
    "    ], name = \"inception_cnn_model\")"
   ]
  },
  {
   "cell_type": "code",
   "execution_count": null,
   "id": "a7d71921",
   "metadata": {},
   "outputs": [],
   "source": [
    "from tensorflow.python.keras.metrics import Metric\n",
    "\n",
    "\n",
    "custom_inception_model.compile(optimizer='rmsprop',\n",
    "                              loss=tf.losses.CategoricalCrossentropy(),\n",
    "                              metrics=['accuracy'])\n",
    "\n",
    "custom_inception_model.summary()"
   ]
  },
  {
   "cell_type": "code",
   "execution_count": null,
   "id": "729612b2",
   "metadata": {},
   "outputs": [],
   "source": [
    "history = custom_inception_model.fit(\n",
    "          train_images,\n",
    "          epochs = 300,\n",
    "          verbose=1,\n",
    "          validation_data = val_images,\n",
    "          )"
   ]
  },
  {
   "cell_type": "code",
   "execution_count": null,
   "id": "73f6e2ce",
   "metadata": {},
   "outputs": [],
   "source": [
    "pd.DataFrame(history.history)[['accuracy','val_accuracy']].plot()\n",
    "plt.title(\"Accuracy\")\n",
    "plt.show()\n",
    "#model.summary()"
   ]
  },
  {
   "cell_type": "code",
   "execution_count": null,
   "id": "f93959de",
   "metadata": {},
   "outputs": [],
   "source": [
    "pd.DataFrame(history.history)[['loss','val_loss']].plot()\n",
    "plt.title(\"Loss\")\n",
    "plt.show()"
   ]
  },
  {
   "cell_type": "code",
   "execution_count": null,
   "id": "4b6299a8",
   "metadata": {},
   "outputs": [],
   "source": [
    "results = custom_inception_model.evaluate(test_images, verbose=0)\n",
    "\n",
    "print(\"    Test Loss: {:.5f}\".format(results[0]))\n",
    "print(\"Test Accuracy: {:.2f}%\".format(results[1] * 100))"
   ]
  },
  {
   "cell_type": "code",
   "execution_count": null,
   "id": "c7a66cb5",
   "metadata": {},
   "outputs": [],
   "source": [
    "# Predict the label of the test_images\n",
    "pred = custom_inception_model.predict(test_images)\n",
    "pred = np.argmax(pred,axis=1)\n",
    "\n",
    "# Map the label\n",
    "labels = (train_images.class_indices)\n",
    "labels = dict((v,k) for k,v in labels.items())\n",
    "pred = [labels[k] for k in pred]\n",
    "\n",
    "# Display the result\n",
    "print(f'The first 6 predictions: {pred[:6]}')"
   ]
  },
  {
   "cell_type": "code",
   "execution_count": null,
   "id": "55781172",
   "metadata": {},
   "outputs": [],
   "source": [
    "from sklearn.metrics import classification_report\n",
    "y_test = list(test_df.Label)\n",
    "print(classification_report(y_test, pred))"
   ]
  },
  {
   "cell_type": "code",
   "execution_count": null,
   "id": "c0b409d5",
   "metadata": {},
   "outputs": [],
   "source": [
    "# Display 15 picture of the dataset with their labels\n",
    "fig, axes = plt.subplots(nrows=3, ncols=5, figsize=(15, 7),\n",
    "                        subplot_kw={'xticks': [], 'yticks': []})\n",
    "\n",
    "for i, ax in enumerate(axes.flat):\n",
    "    ax.imshow(plt.imread(test_df.Filepath.iloc[i]))\n",
    "    ax.set_title(f\"True: {test_df.Label.iloc[i]}\\nPredicted: {pred[i]}\")\n",
    "plt.tight_layout()\n",
    "plt.show()"
   ]
  }
 ],
 "metadata": {
  "kernelspec": {
   "display_name": "Python 3 (ipykernel)",
   "language": "python",
   "name": "python3"
  },
  "language_info": {
   "codemirror_mode": {
    "name": "ipython",
    "version": 3
   },
   "file_extension": ".py",
   "mimetype": "text/x-python",
   "name": "python",
   "nbconvert_exporter": "python",
   "pygments_lexer": "ipython3",
   "version": "3.9.7"
  }
 },
 "nbformat": 4,
 "nbformat_minor": 5
}
